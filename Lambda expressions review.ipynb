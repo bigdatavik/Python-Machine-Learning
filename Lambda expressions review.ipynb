{
    "nbformat_minor": 0, 
    "metadata": {
        "kernelspec": {
            "name": "python2", 
            "display_name": "Python 2 with Spark 1.6", 
            "language": "python"
        }, 
        "language_info": {
            "mimetype": "text/x-python", 
            "codemirror_mode": {
                "name": "ipython", 
                "version": 2
            }, 
            "pygments_lexer": "ipython2", 
            "nbconvert_exporter": "python", 
            "name": "python", 
            "file_extension": ".py", 
            "version": "2.7.11"
        }
    }, 
    "cells": [
        {
            "metadata": {}, 
            "cell_type": "markdown", 
            "source": "#lambda expressions\n\nOne of Pythons most useful (and for beginners, confusing) tools is the lambda expression. lambda expressions allow us to create \"anonymous\" functions. This basically means we can quickly make ad-hoc functions without needing to properly define a function using def.\n\nFunction objects returned by running lambda expressions work exactly the same as those created and assigned by defs. There is key difference that makes lambda useful in specialized roles:\n\n**lambda's body is a single expression, not a block of statements.**\n\n* The lambda's body is similar to what we would put in a def body's return statement. We simply type the result as an expression instead of explicitly returning it. Because it is limited to an expression, a lambda is less general that a def. We can only squeeze design, to limit program nesting. lambda is designed for coding simple functions, and def handles the larger tasks.\n\nLets slowly break down a lambda expression by deconstructing a function:"
        }, 
        {
            "outputs": [], 
            "source": "def square(num):\n    result = num**2\n    return result", 
            "metadata": {
                "collapsed": true
            }, 
            "cell_type": "code", 
            "execution_count": 1
        }, 
        {
            "outputs": [
                {
                    "output_type": "execute_result", 
                    "metadata": {}, 
                    "execution_count": 2, 
                    "data": {
                        "text/plain": "4"
                    }
                }
            ], 
            "source": "square(2)", 
            "metadata": {
                "collapsed": false
            }, 
            "cell_type": "code", 
            "execution_count": 2
        }, 
        {
            "metadata": {}, 
            "cell_type": "markdown", 
            "source": "Continuing the breakdown:"
        }, 
        {
            "outputs": [], 
            "source": "def square(num):\n    return num**2", 
            "metadata": {
                "collapsed": true
            }, 
            "cell_type": "code", 
            "execution_count": 3
        }, 
        {
            "outputs": [
                {
                    "output_type": "execute_result", 
                    "metadata": {}, 
                    "execution_count": 4, 
                    "data": {
                        "text/plain": "4"
                    }
                }
            ], 
            "source": "square(2)", 
            "metadata": {
                "collapsed": false
            }, 
            "cell_type": "code", 
            "execution_count": 4
        }, 
        {
            "metadata": {}, 
            "cell_type": "markdown", 
            "source": "We can actually write this in one line (although it would be bad style to do so)"
        }, 
        {
            "outputs": [], 
            "source": "def square(num): return num**2", 
            "metadata": {
                "collapsed": true
            }, 
            "cell_type": "code", 
            "execution_count": 3
        }, 
        {
            "outputs": [
                {
                    "output_type": "execute_result", 
                    "metadata": {}, 
                    "execution_count": 6, 
                    "data": {
                        "text/plain": "4"
                    }
                }
            ], 
            "source": "square(2)", 
            "metadata": {
                "collapsed": false
            }, 
            "cell_type": "code", 
            "execution_count": 6
        }, 
        {
            "metadata": {}, 
            "cell_type": "markdown", 
            "source": "This is the form a function that a lambda expression intends to replicate. A lambda expression can then be written as:"
        }, 
        {
            "outputs": [
                {
                    "output_type": "execute_result", 
                    "metadata": {}, 
                    "execution_count": 4, 
                    "data": {
                        "text/plain": "<function __main__.<lambda>>"
                    }
                }
            ], 
            "source": "lambda num: num**2", 
            "metadata": {
                "collapsed": false
            }, 
            "cell_type": "code", 
            "execution_count": 4
        }, 
        {
            "metadata": {}, 
            "cell_type": "markdown", 
            "source": "Note how we get a function back. We can assign this function to a label:"
        }, 
        {
            "outputs": [], 
            "source": "square = lambda num: num**2", 
            "metadata": {
                "collapsed": true
            }, 
            "cell_type": "code", 
            "execution_count": 5
        }, 
        {
            "outputs": [
                {
                    "output_type": "execute_result", 
                    "metadata": {}, 
                    "execution_count": 6, 
                    "data": {
                        "text/plain": "4"
                    }
                }
            ], 
            "source": "square(2)", 
            "metadata": {
                "collapsed": false
            }, 
            "cell_type": "code", 
            "execution_count": 6
        }, 
        {
            "metadata": {}, 
            "cell_type": "markdown", 
            "source": "And there you have it! The breakdown of a function into a lambda expression!\nLets see a few more examples:\n\n##Example 1\nCheck it a number is even"
        }, 
        {
            "outputs": [], 
            "source": "even = lambda x: x%2==0", 
            "metadata": {
                "collapsed": false
            }, 
            "cell_type": "code", 
            "execution_count": 7
        }, 
        {
            "outputs": [
                {
                    "output_type": "execute_result", 
                    "metadata": {}, 
                    "execution_count": 8, 
                    "data": {
                        "text/plain": "False"
                    }
                }
            ], 
            "source": "even(3)", 
            "metadata": {
                "collapsed": false
            }, 
            "cell_type": "code", 
            "execution_count": 8
        }, 
        {
            "outputs": [
                {
                    "output_type": "execute_result", 
                    "metadata": {}, 
                    "execution_count": 9, 
                    "data": {
                        "text/plain": "True"
                    }
                }
            ], 
            "source": "even(4)", 
            "metadata": {
                "collapsed": false
            }, 
            "cell_type": "code", 
            "execution_count": 9
        }, 
        {
            "metadata": {}, 
            "cell_type": "markdown", 
            "source": "##Example 2\nGrab first character of a string:"
        }, 
        {
            "outputs": [], 
            "source": "first = lambda s: s[0]", 
            "metadata": {
                "collapsed": true
            }, 
            "cell_type": "code", 
            "execution_count": 10
        }, 
        {
            "outputs": [
                {
                    "output_type": "execute_result", 
                    "metadata": {}, 
                    "execution_count": 11, 
                    "data": {
                        "text/plain": "'h'"
                    }
                }
            ], 
            "source": "first('hello')", 
            "metadata": {
                "collapsed": false
            }, 
            "cell_type": "code", 
            "execution_count": 11
        }, 
        {
            "metadata": {}, 
            "cell_type": "markdown", 
            "source": "##Example 3\nReverse a string:"
        }, 
        {
            "outputs": [], 
            "source": "rev = lambda s: s[::-1]", 
            "metadata": {
                "collapsed": true
            }, 
            "cell_type": "code", 
            "execution_count": 12
        }, 
        {
            "outputs": [
                {
                    "output_type": "execute_result", 
                    "metadata": {}, 
                    "execution_count": 13, 
                    "data": {
                        "text/plain": "'olleh'"
                    }
                }
            ], 
            "source": "rev('hello')", 
            "metadata": {
                "collapsed": false
            }, 
            "cell_type": "code", 
            "execution_count": 13
        }, 
        {
            "metadata": {}, 
            "cell_type": "markdown", 
            "source": "##Example 4\nJust like a normal function, we can accept more than one function into a lambda expresssion:"
        }, 
        {
            "outputs": [], 
            "source": "adder = lambda x,y : x+y", 
            "metadata": {
                "collapsed": false
            }, 
            "cell_type": "code", 
            "execution_count": 14
        }, 
        {
            "outputs": [
                {
                    "output_type": "execute_result", 
                    "metadata": {}, 
                    "execution_count": 15, 
                    "data": {
                        "text/plain": "5"
                    }
                }
            ], 
            "source": "adder(2,3)", 
            "metadata": {
                "collapsed": false
            }, 
            "cell_type": "code", 
            "execution_count": 15
        }, 
        {
            "metadata": {}, 
            "cell_type": "markdown", 
            "source": "lambda expressions really shine when used in conjunction with map(),filter() and reduce(). Each of those functions has its own lecture, so feel free to explore them if your very itnerested in lambda."
        }, 
        {
            "metadata": {}, 
            "cell_type": "markdown", 
            "source": "I highly recommend reading this blog post at [Python Conquers the Universe](https://pythonconquerstheuniverse.wordpress.com/2011/08/29/lambda_tutorial/) for a great breakdown on lambda expressions and some explanations of common confusions! "
        }
    ], 
    "nbformat": 4
}